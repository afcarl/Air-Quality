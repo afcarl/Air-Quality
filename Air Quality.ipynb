{
 "cells": [
  {
   "cell_type": "markdown",
   "metadata": {},
   "source": [
    "# Air Quality Data Analysis\n",
    "## Dataset acquired from UCI"
   ]
  },
  {
   "cell_type": "code",
   "execution_count": 6,
   "metadata": {
    "collapsed": false
   },
   "outputs": [
    {
     "name": "stdout",
     "output_type": "stream",
     "text": [
      "         Date      Time CO(GT)  PT08.S1(CO)  NMHC(GT) C6H6(GT)  PT08.S2(NMHC)  \\\n",
      "0  10/03/2004  18.00.00    2,6       1360.0     150.0     11,9         1046.0   \n",
      "1  10/03/2004  19.00.00      2       1292.0     112.0      9,4          955.0   \n",
      "2  10/03/2004  20.00.00    2,2       1402.0      88.0      9,0          939.0   \n",
      "3  10/03/2004  21.00.00    2,2       1376.0      80.0      9,2          948.0   \n",
      "4  10/03/2004  22.00.00    1,6       1272.0      51.0      6,5          836.0   \n",
      "\n",
      "   NOx(GT)  PT08.S3(NOx)  NO2(GT)  PT08.S4(NO2)  PT08.S5(O3)     T    RH  \\\n",
      "0    166.0        1056.0    113.0        1692.0       1268.0  13,6  48,9   \n",
      "1    103.0        1174.0     92.0        1559.0        972.0  13,3  47,7   \n",
      "2    131.0        1140.0    114.0        1555.0       1074.0  11,9  54,0   \n",
      "3    172.0        1092.0    122.0        1584.0       1203.0  11,0  60,0   \n",
      "4    131.0        1205.0    116.0        1490.0       1110.0  11,2  59,6   \n",
      "\n",
      "       AH  \n",
      "0  0,7578  \n",
      "1  0,7255  \n",
      "2  0,7502  \n",
      "3  0,7867  \n",
      "4  0,7888  \n"
     ]
    }
   ],
   "source": [
    "import pandas as pd\n",
    "data = pd.read_csv('AirQualityUCI.csv', delimiter=';')\n",
    "data = data.drop('Unnamed: 15', 1)\n",
    "data = data.drop('Unnamed: 16', 1)\n",
    "print(data.head())"
   ]
  },
  {
   "cell_type": "code",
   "execution_count": 7,
   "metadata": {
    "collapsed": false
   },
   "outputs": [
    {
     "data": {
      "image/png": "[encoded data removed]",
      "text/plain": [
       "<matplotlib.figure.Figure at 0x113a79198>"
      ]
     },
     "metadata": {},
     "output_type": "display_data"
    }
   ],
   "source": [
    "# Creating plots to better analyse the data\n",
    "import matplotlib.pyplot as plt\n",
    "%matplotlib inline\n",
    "fig = plt.figure()\n",
    "ax1 = fig.add_subplot(3,1,1)\n",
    "ax2 = fig.add_subplot(3,1,2)\n",
    "ax3 = fig.add_subplot(3,1,3)\n",
    "data.plot('PT08.S4(NO2)','NOx(GT)',kind='scatter', ax=ax1)\n",
    "data.plot('PT08.S4(NO2)','NO2(GT)',kind='scatter', ax=ax2)\n",
    "data.plot('NOx(GT)','NMHC(GT)',kind='scatter', ax=ax3)\n",
    "plt.show()"
   ]
  },
  {
   "cell_type": "code",
   "execution_count": 8,
   "metadata": {
    "collapsed": false
   },
   "outputs": [
    {
     "name": "stdout",
     "output_type": "stream",
     "text": [
      "         Date      Time  CO(GT)  PT08.S1(CO)  NMHC(GT)  C6H6(GT)  \\\n",
      "0  10/03/2004  18.00.00     2.6       1360.0     150.0      11.9   \n",
      "1  10/03/2004  19.00.00     2.0       1292.0     112.0       9.4   \n",
      "2  10/03/2004  20.00.00     2.2       1402.0      88.0       9.0   \n",
      "3  10/03/2004  21.00.00     2.2       1376.0      80.0       9.2   \n",
      "4  10/03/2004  22.00.00     1.6       1272.0      51.0       6.5   \n",
      "\n",
      "   PT08.S2(NMHC)  NOx(GT)  PT08.S3(NOx)  NO2(GT)  PT08.S4(NO2)  PT08.S5(O3)  \\\n",
      "0         1046.0    166.0        1056.0    113.0        1692.0       1268.0   \n",
      "1          955.0    103.0        1174.0     92.0        1559.0        972.0   \n",
      "2          939.0    131.0        1140.0    114.0        1555.0       1074.0   \n",
      "3          948.0    172.0        1092.0    122.0        1584.0       1203.0   \n",
      "4          836.0    131.0        1205.0    116.0        1490.0       1110.0   \n",
      "\n",
      "      T    RH      AH  \n",
      "0  13.6  48.9  0.7578  \n",
      "1  13.3  47.7  0.7255  \n",
      "2  11.9  54.0  0.7502  \n",
      "3  11.0  60.0  0.7867  \n",
      "4  11.2  59.6  0.7888  \n"
     ]
    }
   ],
   "source": [
    "def remove_char(series):\n",
    "    val = str(series).replace(',','.')\n",
    "    return float(val)\n",
    "\n",
    "data['T'] =  data['T'].apply(remove_char)\n",
    "data['CO(GT)'] =  data['CO(GT)'].apply(remove_char)\n",
    "data['C6H6(GT)'] =  data['C6H6(GT)'].apply(remove_char)\n",
    "data['RH'] =  data['RH'].apply(remove_char)\n",
    "data['AH'] = data['AH'].apply(remove_char)\n",
    "print(data.head())"
   ]
  },
  {
   "cell_type": "code",
   "execution_count": 10,
   "metadata": {
    "collapsed": false
   },
   "outputs": [
    {
     "name": "stdout",
     "output_type": "stream",
     "text": [
      "         Date      Time  CO(GT)  PT08.S1(CO)  NMHC(GT)  C6H6(GT)  \\\n",
      "0  10/03/2004  18.00.00     2.6       1360.0     150.0      11.9   \n",
      "1  10/03/2004  19.00.00     2.0       1292.0     112.0       9.4   \n",
      "2  10/03/2004  20.00.00     2.2       1402.0      88.0       9.0   \n",
      "3  10/03/2004  21.00.00     2.2       1376.0      80.0       9.2   \n",
      "4  10/03/2004  22.00.00     1.6       1272.0      51.0       6.5   \n",
      "\n",
      "   PT08.S2(NMHC)  NOx(GT)  PT08.S3(NOx)  NO2(GT)  PT08.S4(NO2)  PT08.S5(O3)  \\\n",
      "0         1046.0    166.0        1056.0    113.0        1692.0       1268.0   \n",
      "1          955.0    103.0        1174.0     92.0        1559.0        972.0   \n",
      "2          939.0    131.0        1140.0    114.0        1555.0       1074.0   \n",
      "3          948.0    172.0        1092.0    122.0        1584.0       1203.0   \n",
      "4          836.0    131.0        1205.0    116.0        1490.0       1110.0   \n",
      "\n",
      "      T    RH     AH  \n",
      "0  13.6  48.9  75.78  \n",
      "1  13.3  47.7  72.55  \n",
      "2  11.9  54.0  75.02  \n",
      "3  11.0  60.0  78.67  \n",
      "4  11.2  59.6  78.88  \n"
     ]
    }
   ],
   "source": [
    "# Convert the AH to normal percentages\n",
    "data['AH'] = data['AH']* 10\n",
    "print(data.head())"
   ]
  },
  {
   "cell_type": "code",
   "execution_count": 11,
   "metadata": {
    "collapsed": false
   },
   "outputs": [
    {
     "data": {
      "image/png": "[encoded data removed]",
      "text/plain": [
       "<matplotlib.figure.Figure at 0x113a6c860>"
      ]
     },
     "metadata": {},
     "output_type": "display_data"
    }
   ],
   "source": [
    "fig = plt.figure()\n",
    "ax1 = fig.add_subplot(3,1,1)\n",
    "ax2 = fig.add_subplot(3,1,2)\n",
    "data.plot('T','RH',kind='scatter', ax=ax1)\n",
    "data.plot('T','AH',kind='scatter', ax=ax2)\n",
    "plt.show()"
   ]
  },
  {
   "cell_type": "code",
   "execution_count": 12,
   "metadata": {
    "collapsed": false
   },
   "outputs": [
    {
     "data": {
      "text/plain": [
       "LinearRegression(copy_X=True, fit_intercept=True, n_jobs=1, normalize=False)"
      ]
     },
     "execution_count": 12,
     "metadata": {},
     "output_type": "execute_result"
    }
   ],
   "source": [
    "# Applying Machine Learning Models\n",
    "from sklearn.linear_model import LinearRegression\n",
    "lr = LinearRegression()\n",
    "data = data[pd.notnull(data['T'])]\n",
    "data = data[pd.notnull(data['NOx(GT)'])]\n",
    "data = data[pd.notnull(data['PT08.S4(NO2)'])]\n",
    "lr.fit(data[['PT08.S4(NO2)']], data['NOx(GT)'])"
   ]
  },
  {
   "cell_type": "code",
   "execution_count": 13,
   "metadata": {
    "collapsed": false
   },
   "outputs": [
    {
     "name": "stdout",
     "output_type": "stream",
     "text": [
      "[ 174.50293702  171.89801052  171.81966686  172.38765836  170.54658249]\n",
      "0    166.0\n",
      "1    103.0\n",
      "2    131.0\n",
      "3    172.0\n",
      "4    131.0\n",
      "Name: NOx(GT), dtype: float64\n"
     ]
    }
   ],
   "source": [
    "# Make Predictions \n",
    "predictions = lr.predict(data[['PT08.S4(NO2)']])\n",
    "print(predictions[:5])\n",
    "print(data['NOx(GT)'].head())"
   ]
  },
  {
   "cell_type": "code",
   "execution_count": 14,
   "metadata": {
    "collapsed": false
   },
   "outputs": [
    {
     "data": {
      "image/png": "[encoded data removed]",
      "text/plain": [
       "<matplotlib.figure.Figure at 0x11517ba20>"
      ]
     },
     "metadata": {},
     "output_type": "display_data"
    }
   ],
   "source": [
    "# Make Comparison plots\n",
    "fig = plt.figure()\n",
    "ax1 = fig.add_subplot(2,1,1)\n",
    "ax1.scatter(data['PT08.S4(NO2)'], data['NOx(GT)'], color='red')\n",
    "ax1.scatter(data['PT08.S4(NO2)'], predictions, color='blue')\n",
    "plt.show()"
   ]
  },
  {
   "cell_type": "code",
   "execution_count": 15,
   "metadata": {
    "collapsed": false
   },
   "outputs": [
    {
     "name": "stdout",
     "output_type": "stream",
     "text": [
      "66181.3858403\n"
     ]
    }
   ],
   "source": [
    "# Calculating the error measure\n",
    "from sklearn.metrics import mean_squared_error\n",
    "mse = mean_squared_error(data['NOx(GT)'], predictions)\n",
    "print(mse)"
   ]
  },
  {
   "cell_type": "code",
   "execution_count": 16,
   "metadata": {
    "collapsed": false
   },
   "outputs": [
    {
     "name": "stdout",
     "output_type": "stream",
     "text": [
      "257.257431069\n"
     ]
    }
   ],
   "source": [
    "# Calculating RMSE \n",
    "rmse = mse ** (1/2)\n",
    "print(rmse)"
   ]
  },
  {
   "cell_type": "code",
   "execution_count": 17,
   "metadata": {
    "collapsed": false
   },
   "outputs": [
    {
     "name": "stdout",
     "output_type": "stream",
     "text": [
      "9357\n",
      "8991\n"
     ]
    }
   ],
   "source": [
    "print(data.shape[0])\n",
    "data = data[data['PT08.S4(NO2)'] != -200]\n",
    "print(data.shape[0])"
   ]
  },
  {
   "cell_type": "code",
   "execution_count": 18,
   "metadata": {
    "collapsed": false
   },
   "outputs": [
    {
     "name": "stdout",
     "output_type": "stream",
     "text": [
      "CO(GT)            -34.897053\n",
      "PT08.S1(CO)      1099.833166\n",
      "NMHC(GT)         -158.702591\n",
      "C6H6(GT)           10.083105\n",
      "PT08.S2(NMHC)     939.153376\n",
      "NOx(GT)           163.745078\n",
      "PT08.S3(NOx)      835.493605\n",
      "NO2(GT)            56.666555\n",
      "PT08.S4(NO2)     1456.264598\n",
      "PT08.S5(O3)      1022.906128\n",
      "T                  18.317829\n",
      "RH                 49.234201\n",
      "AH                102.553027\n",
      "dtype: float64\n"
     ]
    }
   ],
   "source": [
    "print(data.mean())"
   ]
  },
  {
   "cell_type": "code",
   "execution_count": 19,
   "metadata": {
    "collapsed": false
   },
   "outputs": [
    {
     "name": "stdout",
     "output_type": "stream",
     "text": [
      "         Date      Time  CO(GT)  PT08.S1(CO)  NMHC(GT)  C6H6(GT)  \\\n",
      "0  10/03/2004  18.00.00     2.6       1360.0     150.0      11.9   \n",
      "1  10/03/2004  19.00.00     2.0       1292.0     112.0       9.4   \n",
      "2  10/03/2004  20.00.00     2.2       1402.0      88.0       9.0   \n",
      "3  10/03/2004  21.00.00     2.2       1376.0      80.0       9.2   \n",
      "4  10/03/2004  22.00.00     1.6       1272.0      51.0       6.5   \n",
      "\n",
      "   PT08.S2(NMHC)  NOx(GT)  PT08.S3(NOx)  NO2(GT)  PT08.S4(NO2)  PT08.S5(O3)  \\\n",
      "0         1046.0    166.0        1056.0    113.0        1692.0       1268.0   \n",
      "1          955.0    103.0        1174.0     92.0        1559.0        972.0   \n",
      "2          939.0    131.0        1140.0    114.0        1555.0       1074.0   \n",
      "3          948.0    172.0        1092.0    122.0        1584.0       1203.0   \n",
      "4          836.0    131.0        1205.0    116.0        1490.0       1110.0   \n",
      "\n",
      "      T    RH     AH  \n",
      "0  13.6  48.9  75.78  \n",
      "1  13.3  47.7  72.55  \n",
      "2  11.9  54.0  75.02  \n",
      "3  11.0  60.0  78.67  \n",
      "4  11.2  59.6  78.88  \n",
      "[[    0.           371.49235914   285.97560665 ...,   794.43243791\n",
      "   1031.00685357   950.72554399]\n",
      " [  371.49235914     0.           160.69832264 ...,   785.6160386\n",
      "    858.00664659   817.45669176]\n",
      " [  285.97560665   160.69832264     0.         ...,   764.72557928\n",
      "    897.84901119   843.70957539]\n",
      " ..., \n",
      " [  794.43243791   785.6160386    764.72557928 ...,     0.           432.58412927\n",
      "    312.52324458]\n",
      " [ 1031.00685357   858.00664659   897.84901119 ...,   432.58412927     0.\n",
      "    158.85591616]\n",
      " [  950.72554399   817.45669176   843.70957539 ...,   312.52324458\n",
      "    158.85591616     0.        ]]\n"
     ]
    }
   ],
   "source": [
    "# Calculating the euclidean distance between different params\n",
    "print(data.head())\n",
    "from sklearn.metrics.pairwise import euclidean_distances\n",
    "distance = euclidean_distances(data.iloc[:,2:], data.iloc[:,2:])\n",
    "print(distance)"
   ]
  },
  {
   "cell_type": "code",
   "execution_count": 20,
   "metadata": {
    "collapsed": false
   },
   "outputs": [
    {
     "name": "stdout",
     "output_type": "stream",
     "text": [
      "[[  867.58829473   595.37752788]\n",
      " [  612.55263807   848.92784277]\n",
      " [  693.01208979   771.14694677]\n",
      " ..., \n",
      " [  649.75589053   641.04989116]\n",
      " [  470.79259758  1041.65442723]\n",
      " [  525.36068699   912.17755454]]\n"
     ]
    }
   ],
   "source": [
    "# Using KMeans to create clusters\n",
    "from sklearn.cluster import KMeans\n",
    "kmeans_model = KMeans(n_clusters=2, random_state=1)\n",
    "items_distances = kmeans_model.fit_transform(data.iloc[:,2:])\n",
    "print(items_distances)"
   ]
  },
  {
   "cell_type": "code",
   "execution_count": 27,
   "metadata": {
    "collapsed": false
   },
   "outputs": [
    {
     "name": "stdout",
     "output_type": "stream",
     "text": [
      "            Date      Time  CO(GT)  PT08.S1(CO)  NMHC(GT)  C6H6(GT)  \\\n",
      "9352  04/04/2005  10.00.00     3.1       1314.0    -200.0      13.5   \n",
      "9353  04/04/2005  11.00.00     2.4       1163.0    -200.0      11.4   \n",
      "9354  04/04/2005  12.00.00     2.4       1142.0    -200.0      12.4   \n",
      "9355  04/04/2005  13.00.00     2.1       1003.0    -200.0       9.5   \n",
      "9356  04/04/2005  14.00.00     2.2       1071.0    -200.0      11.9   \n",
      "\n",
      "      PT08.S2(NMHC)  NOx(GT)  PT08.S3(NOx)  NO2(GT)  PT08.S4(NO2)  \\\n",
      "9352         1101.0    472.0         539.0    190.0        1374.0   \n",
      "9353         1027.0    353.0         604.0    179.0        1264.0   \n",
      "9354         1063.0    293.0         603.0    175.0        1241.0   \n",
      "9355          961.0    235.0         702.0    156.0        1041.0   \n",
      "9356         1047.0    265.0         654.0    168.0        1129.0   \n",
      "\n",
      "      PT08.S5(O3)     T    RH     AH  clusters  \n",
      "9352       1729.0  21.9  29.3  75.68         1  \n",
      "9353       1269.0  24.3  23.7  71.19         1  \n",
      "9354       1092.0  26.9  18.3  64.06         1  \n",
      "9355        770.0  28.3  13.5  51.39         1  \n",
      "9356        816.0  28.5  13.1  50.28         1  \n"
     ]
    }
   ],
   "source": [
    "# Applying KMeans and visulaizing the data\n",
    "from sklearn.cluster import KMeans\n",
    "k_means = KMeans(n_clusters=2)\n",
    "k_means.fit(data[['PT08.S4(NO2)','NOx(GT)']])\n",
    "data['clusters'] = k_means.labels_\n",
    "print(data.tail())\n"
   ]
  },
  {
   "cell_type": "code",
   "execution_count": 32,
   "metadata": {
    "collapsed": false
   },
   "outputs": [
    {
     "name": "stdout",
     "output_type": "stream",
     "text": [
      "0.413418982191\n"
     ]
    },
    {
     "name": "stderr",
     "output_type": "stream",
     "text": [
      "/Users/navneetmkumar/anaconda/lib/python3.6/site-packages/ipykernel/__main__.py:4: FutureWarning: reshape is deprecated and will raise in a subsequent release. Please use .values.reshape(...) instead\n"
     ]
    }
   ],
   "source": [
    "# Calculating the cost function\n",
    "from sklearn.linear_model import LinearRegression\n",
    "model = LinearRegression()\n",
    "model.fit(data['NOx(GT)'].reshape(-1,1), data['NO2(GT)'])\n",
    "theta1 = model.coef_[0]\n",
    "print(theta1)"
   ]
  },
  {
   "cell_type": "code",
   "execution_count": 33,
   "metadata": {
    "collapsed": true
   },
   "outputs": [],
   "source": [
    "# Cost function\n",
    "def cost(theta0, theta1, x, y):\n",
    "    # Initialize cost\n",
    "    J = 0\n",
    "    # The number of observations\n",
    "    m = len(x)\n",
    "    # Loop through each observation\n",
    "    for i in range(m):\n",
    "        # Compute the hypothesis \n",
    "        h = theta1 * x[i] + theta0\n",
    "        # Add to cost\n",
    "        J += (h - y[i])**2\n",
    "    # Average and normalize cost\n",
    "    J /= (2*m)\n",
    "    return J"
   ]
  },
  {
   "cell_type": "code",
   "execution_count": 35,
   "metadata": {
    "collapsed": false
   },
   "outputs": [],
   "source": [
    "# Gradient Descent Function\n",
    "def gradient_descent(x,y,alpha=0.01, theta0=0, theta1=0):\n",
    "    max_epochs=100\n",
    "    counter = 0      # Intialize a counter\n",
    "    c = cost(theta1, theta0, data['NOx(GT)'].reshape(-1,1), data['NO2(GT)'])  ## Initial cost\n",
    "    costs = [c]     # Lets store each update\n",
    "    # Set a convergence threshold to find where the cost function in minimized\n",
    "    # When the difference between the previous cost and current cost \n",
    "    #        is less than this value we will say the parameters converged\n",
    "    convergence_thres = 0.000001  \n",
    "    cprev = c + 10   \n",
    "    theta0s = [theta0]\n",
    "    theta1s = [theta1]\n",
    "\n",
    "    # When the costs converge or we hit a large number of iterations will we stop updating\n",
    "    while (np.abs(cprev - c) > convergence_thres) and (counter < max_epochs):\n",
    "        cprev = c\n",
    "        # Alpha times the partial deriviative is our updated\n",
    "        update0 = alpha * partial_cost_theta0(theta0, theta1, x, y)\n",
    "        update1 = alpha * partial_cost_theta1(theta0, theta1, x, y)\n",
    "\n",
    "        # Update theta0 and theta1 at the same time\n",
    "        # We want to compute the slopes at the same set of hypothesised parameters\n",
    "        #             so we update after finding the partial derivatives\n",
    "        theta0 -= update0\n",
    "        theta1 -= update1\n",
    "        \n",
    "        # Store thetas\n",
    "        theta0s.append(theta0)\n",
    "        theta1s.append(theta1)\n",
    "        \n",
    "        # Compute the new cost\n",
    "        c = cost(theta0, theta1, data['NOx(GT)'].reshape(-1,1), data['NO2(GT)'])\n",
    "\n",
    "        # Store updates\n",
    "        costs.append(c)\n",
    "        counter += 1   # Count\n",
    "\n",
    "    return {'theta0': theta0, 'theta1': theta1, \"costs\": costs}\n",
    "    "
   ]
  },
  {
   "cell_type": "code",
   "execution_count": 36,
   "metadata": {
    "collapsed": true
   },
   "outputs": [],
   "source": [
    "# Creation of neural networks\n",
    "# Creating the sigmoid_activation function\n",
    "def sigmoid_activation(x, theta):\n",
    "    z = np.dot(theta.T, x)\n",
    "    ex = np.exp(-z)\n",
    "    ex = 1+ex\n",
    "    h = 1/ex\n",
    "    return h"
   ]
  },
  {
   "cell_type": "code",
   "execution_count": 38,
   "metadata": {
    "collapsed": true
   },
   "outputs": [],
   "source": [
    "# Creating the cost function for neural network\n",
    "def cost(x,y,theta):\n",
    "    h = sigmoid_activation(x, theta)\n",
    "    for i in range(len(x)):\n",
    "        z = y[i]*np.log(h[i])\n",
    "        w = (1-y[i])*np.log(1-h[i])\n",
    "        k += z+w\n",
    "    k = -1*(k/len(x))\n",
    "    return k"
   ]
  },
  {
   "cell_type": "code",
   "execution_count": 39,
   "metadata": {
    "collapsed": true
   },
   "outputs": [],
   "source": [
    "# Calculating the gradients\n",
    "def gradients(x,y, theta):\n",
    "    grads = 0\n",
    "    for j, obs in enumerate(x):\n",
    "        h = sigmoid_activation(obs, theta_init)\n",
    "        # Get delta\n",
    "        delta = (y[j]-h) * h * (1-h) * obs\n",
    "        # accumulate\n",
    "        grads += delta[:,np.newaxis]/x.shape[0]\n",
    "    return grads"
   ]
  },
  {
   "cell_type": "code",
   "execution_count": 41,
   "metadata": {
    "collapsed": false
   },
   "outputs": [],
   "source": [
    "import numpy as np\n",
    "# Creating the learning function\n",
    "\n",
    "# Initializing the weights\n",
    "theta_init = np.random.normal(0,0.01,size=(5,1))\n",
    "# set a learning rate\n",
    "learning_rate = 0.1\n",
    "# maximum number of iterations for gradient descent\n",
    "maxepochs = 10000       \n",
    "# costs convergence threshold, ie. (prevcost - cost) > convergence_thres\n",
    "convergence_thres = 0.0001  \n",
    "\n",
    "\n",
    "def learn(x, y, theta, learning_rate, maxepochs, convergence_thres):\n",
    "    costs = []\n",
    "    cost = cost(x,y,theta)\n",
    "    costprev = cost + convergence_thres + 0.01\n",
    "    counter = 0\n",
    "    for counter in range(maxepochs):\n",
    "        for j, obs in enumerate(x):\n",
    "            h = sigmoid_activation(obs, theta_init)\n",
    "            delta = (y[j]-h)*h*(1-h)*obs\n",
    "            grads += delta[:,np.newaxis]/x.shape[0]\n",
    "        \n",
    "        \n",
    "        theta += grads*learning_rate\n",
    "        counter +=1\n",
    "        costprev = cost\n",
    "        cost = cost(x,y,theta)\n",
    "        costs.append(cost)\n",
    "        if np.abs(costprev-cost) < convergence_thres:\n",
    "            break\n",
    "    return theta\n"
   ]
  },
  {
   "cell_type": "code",
   "execution_count": 42,
   "metadata": {
    "collapsed": true
   },
   "outputs": [],
   "source": [
    "# Creating the feedforward function\n",
    "\n",
    "#Initializing the weights\n",
    "theta0_init = np.random.normal(0,0.01,size=(5,4))\n",
    "theta1_init = np.random.normal(0,0.01,size=(5,1))\n",
    "\n",
    "\n",
    "def feedforward(x, theta0, theta1):\n",
    "    # Check the matrix shapes closely inorder to avoid any dot product errors\n",
    "    a1 = sigmoid_activation(x.T,theta0).T\n",
    "    # Add a column of ones to the hidden layer to include the bias term\n",
    "    a1 = np.column_stack([np.ones(a1.shape[0]), a1])\n",
    "    out = sigmoid_activation(a1.T, theta1)\n",
    "    return out\n",
    "\n"
   ]
  },
  {
   "cell_type": "code",
   "execution_count": 44,
   "metadata": {
    "collapsed": true
   },
   "outputs": [],
   "source": [
    "# Creating the new_cost function\n",
    "\n",
    "def new_cost(x,y,theta0, theta1):\n",
    "    h = feedforward(x,theta0, theta1)\n",
    "    inner = y*np.log(h) + (1-y)*np.log(1-h)\n",
    "    return -np.mean(inner)"
   ]
  },
  {
   "cell_type": "code",
   "execution_count": null,
   "metadata": {
    "collapsed": true
   },
   "outputs": [],
   "source": []
  }
 ],
 "metadata": {
  "kernelspec": {
   "display_name": "Python 3",
   "language": "python",
   "name": "python3"
  },
  "language_info": {
   "codemirror_mode": {
    "name": "ipython",
    "version": 3
   },
   "file_extension": ".py",
   "mimetype": "text/x-python",
   "name": "python",
   "nbconvert_exporter": "python",
   "pygments_lexer": "ipython3",
   "version": "3.6.0"
  }
 },
 "nbformat": 4,
 "nbformat_minor": 2
}
